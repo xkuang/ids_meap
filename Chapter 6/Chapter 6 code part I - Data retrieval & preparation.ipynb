{
 "metadata": {
  "name": "",
  "signature": "sha256:6d675e342b7f5cf565d96dbe0bf1100471ff8178862cec358a7162e9db7f1719"
 },
 "nbformat": 3,
 "nbformat_minor": 0,
 "worksheets": [
  {
   "cells": [
    {
     "cell_type": "heading",
     "level": 1,
     "metadata": {},
     "source": [
      "Installing ElasticSearch on Linux"
     ]
    },
    {
     "cell_type": "raw",
     "metadata": {},
     "source": [
      "sudo apt-get update\n",
      "\n",
      "Java:\n",
      "sudo add-apt-repository ppa:webupd8team/java\n",
      "sudo apt-get install oracle-java7-installer\n",
      "Or (open jdk)\n",
      "apt-get install openjdk-7-jre.\n",
      "\n",
      "ElasticSearch\n",
      "\n",
      "add repo\n",
      "sudo add-apt-repository \"deb http://packages.elasticsearch.org/elasticsearch/1.4/debian stable main\"\n",
      "install elasticsearch\n",
      "sudo apt-get update && sudo apt-get install elasticsearch\n",
      "\n",
      "start on reboot:\n",
      "sudo update-rc.d elasticsearch defaults 95 10\n",
      "start now:\n",
      "sudo /etc/init.d/elasticsearch start"
     ]
    },
    {
     "cell_type": "heading",
     "level": 1,
     "metadata": {},
     "source": [
      "Data retrieval & preparation"
     ]
    },
    {
     "cell_type": "heading",
     "level": 2,
     "metadata": {},
     "source": [
      "Initiate modules"
     ]
    },
    {
     "cell_type": "code",
     "collapsed": false,
     "input": [
      "from elasticsearch import Elasticsearch\n",
      "from elasticsearch_dsl import Search,Q,F,A \n",
      "import wikipedia"
     ],
     "language": "python",
     "metadata": {},
     "outputs": [],
     "prompt_number": 1
    },
    {
     "cell_type": "heading",
     "level": 2,
     "metadata": {},
     "source": [
      "Create elasticsearch Index"
     ]
    },
    {
     "cell_type": "code",
     "collapsed": false,
     "input": [
      "client = Elasticsearch() #elasticsearch client used to communicate with the database\n",
      "indexName = \"medical\" #the index name\n",
      "#client.indices.delete(index=indexName) #delete an index\n",
      "client.indices.create(index=indexName) #create an index"
     ],
     "language": "python",
     "metadata": {},
     "outputs": [
      {
       "metadata": {},
       "output_type": "pyout",
       "prompt_number": 3,
       "text": [
        "{u'acknowledged': True}"
       ]
      }
     ],
     "prompt_number": 3
    },
    {
     "cell_type": "heading",
     "level": 2,
     "metadata": {},
     "source": [
      "Create Document Type"
     ]
    },
    {
     "cell_type": "code",
     "collapsed": false,
     "input": [
      "#create a mapping and attribute it to the disease doc type\n",
      "diseaseMapping = {\n",
      "        'properties': {\n",
      "            'name': {'type': 'string'},\n",
      "            'title': {'type': 'string'},\n",
      "            'fulltext': {'type': 'string'}\n",
      "        }\n",
      "    }\n",
      "#client.indices.delete_mapping(index=indexName,doc_type='diseases')\n",
      "client.indices.put_mapping(index=indexName,doc_type='diseases',body=diseaseMapping )"
     ],
     "language": "python",
     "metadata": {},
     "outputs": [
      {
       "metadata": {},
       "output_type": "pyout",
       "prompt_number": 4,
       "text": [
        "{u'acknowledged': True}"
       ]
      }
     ],
     "prompt_number": 4
    },
    {
     "cell_type": "heading",
     "level": 2,
     "metadata": {},
     "source": [
      "Wikipedia API"
     ]
    },
    {
     "cell_type": "code",
     "collapsed": false,
     "input": [
      "dl = wikipedia.page(\"Lists_of_diseases\")\n",
      "dl.links"
     ],
     "language": "python",
     "metadata": {},
     "outputs": [
      {
       "metadata": {},
       "output_type": "pyout",
       "prompt_number": 5,
       "text": [
        "[u'Airborne disease',\n",
        " u'Contagious disease',\n",
        " u'Cryptogenic disease',\n",
        " u'Disease',\n",
        " u'Disseminated disease',\n",
        " u'Endocrine disease',\n",
        " u'Environmental disease',\n",
        " u'Eye disease',\n",
        " u'Lifestyle disease',\n",
        " u'List of abbreviations for diseases and disorders',\n",
        " u'List of autism-related topics',\n",
        " u'List of basic exercise topics',\n",
        " u'List of cancer types',\n",
        " u'List of communication disorders',\n",
        " u'List of cutaneous conditions',\n",
        " u'List of diseases (0\\u20139)',\n",
        " u'List of diseases (A)',\n",
        " u'List of diseases (B)',\n",
        " u'List of diseases (C)',\n",
        " u'List of diseases (D)',\n",
        " u'List of diseases (E)',\n",
        " u'List of diseases (F)',\n",
        " u'List of diseases (G)',\n",
        " u'List of diseases (H)',\n",
        " u'List of diseases (I)',\n",
        " u'List of diseases (J)',\n",
        " u'List of diseases (K)',\n",
        " u'List of diseases (L)',\n",
        " u'List of diseases (M)',\n",
        " u'List of diseases (N)',\n",
        " u'List of diseases (O)',\n",
        " u'List of diseases (P)',\n",
        " u'List of diseases (Q)',\n",
        " u'List of diseases (R)',\n",
        " u'List of diseases (S)',\n",
        " u'List of diseases (T)',\n",
        " u'List of diseases (U)',\n",
        " u'List of diseases (V)',\n",
        " u'List of diseases (W)',\n",
        " u'List of diseases (X)',\n",
        " u'List of diseases (Y)',\n",
        " u'List of diseases (Z)',\n",
        " u'List of disorders',\n",
        " u'List of eating disorders',\n",
        " u'List of fictional diseases',\n",
        " u'List of genetic disorders',\n",
        " u'List of heart disorders',\n",
        " u'List of human disease case fatality rates',\n",
        " u'List of human diseases associated with infectious pathogens',\n",
        " u'List of infectious diseases',\n",
        " u'List of intestinal diseases',\n",
        " u'List of liver disorders',\n",
        " u'List of mood disorders',\n",
        " u'List of neurological disorders',\n",
        " u'List of notifiable diseases',\n",
        " u'List of personality disorders',\n",
        " u'List of voice disorders',\n",
        " u'List of vulvovaginal disorders',\n",
        " u'Lists of health topics',\n",
        " u'Lists of nutrition topics',\n",
        " u'Localized disease',\n",
        " u'Mental illness (alphabetical list)',\n",
        " u'Non-communicable disease',\n",
        " u'Organic disease',\n",
        " u'Progressive disease',\n",
        " u'Public health',\n",
        " u'Rare disease',\n",
        " u'Systemic disease']"
       ]
      }
     ],
     "prompt_number": 5
    },
    {
     "cell_type": "code",
     "collapsed": false,
     "input": [
      "diseaseListArray = []\n",
      "for link in dl.links[15:42]:\n",
      "    try:\n",
      "        diseaseListArray.append(wikipedia.page(link))\n",
      "    except Exception,e: \n",
      "        print str(e)"
     ],
     "language": "python",
     "metadata": {},
     "outputs": [],
     "prompt_number": 6
    },
    {
     "cell_type": "code",
     "collapsed": false,
     "input": [
      "diseaseListArray"
     ],
     "language": "python",
     "metadata": {},
     "outputs": [
      {
       "metadata": {},
       "output_type": "pyout",
       "prompt_number": 7,
       "text": [
        "[<WikipediaPage 'List of diseases (0\u20139)'>,\n",
        " <WikipediaPage 'List of diseases (A)'>,\n",
        " <WikipediaPage 'List of diseases (B)'>,\n",
        " <WikipediaPage 'List of diseases (C)'>,\n",
        " <WikipediaPage 'List of diseases (D)'>,\n",
        " <WikipediaPage 'List of diseases (E)'>,\n",
        " <WikipediaPage 'List of diseases (F)'>,\n",
        " <WikipediaPage 'List of diseases (G)'>,\n",
        " <WikipediaPage 'List of diseases (H)'>,\n",
        " <WikipediaPage 'List of diseases (I)'>,\n",
        " <WikipediaPage 'List of diseases (J)'>,\n",
        " <WikipediaPage 'List of diseases (K)'>,\n",
        " <WikipediaPage 'List of diseases (L)'>,\n",
        " <WikipediaPage 'List of diseases (M)'>,\n",
        " <WikipediaPage 'List of diseases (N)'>,\n",
        " <WikipediaPage 'List of diseases (O)'>,\n",
        " <WikipediaPage 'List of diseases (P)'>,\n",
        " <WikipediaPage 'List of diseases (Q)'>,\n",
        " <WikipediaPage 'List of diseases (R)'>,\n",
        " <WikipediaPage 'List of diseases (S)'>,\n",
        " <WikipediaPage 'List of diseases (T)'>,\n",
        " <WikipediaPage 'List of diseases (U)'>,\n",
        " <WikipediaPage 'List of diseases (V)'>,\n",
        " <WikipediaPage 'List of diseases (W)'>,\n",
        " <WikipediaPage 'List of diseases (X)'>,\n",
        " <WikipediaPage 'List of diseases (Y)'>,\n",
        " <WikipediaPage 'List of diseases (Z)'>]"
       ]
      }
     ],
     "prompt_number": 7
    },
    {
     "cell_type": "code",
     "collapsed": false,
     "input": [
      "diseaseListArray[0].links"
     ],
     "language": "python",
     "metadata": {},
     "outputs": [
      {
       "metadata": {},
       "output_type": "pyout",
       "prompt_number": 8,
       "text": [
        "[u'11 beta hydroxylase deficiency',\n",
        " u'11 beta hydroxysteroid dehydrogenase type 2 deficiency',\n",
        " u'17-beta-hydroxysteroid dehydrogenase deficiency',\n",
        " u'17 alpha hydroxylase deficiency',\n",
        " u'17 beta hydroxysteroide dehydrogenase deficiency',\n",
        " u'17q21.31 microdeletion syndrome',\n",
        " u'18-Hydroxylase deficiency',\n",
        " u'18p deletion syndrome',\n",
        " u'1p36 deletion syndrome',\n",
        " u'2,8 dihydroxy-adenine urolithiasis',\n",
        " u'2-Hydroxyglutaricaciduria',\n",
        " u'2-Methylacetoacetyl CoA thiolase deficiency',\n",
        " u'2-hydroxyethyl methacrylate sensitization',\n",
        " u'2-hydroxyglutaricaciduria',\n",
        " u'21 hydroxylase deficiency',\n",
        " u'22q11.2 deletion syndrome',\n",
        " u'3-M syndrome',\n",
        " u'3-hydroxy 3-methyl glutaryl-coa lyase deficiency',\n",
        " u'3-hydroxyacyl-coa dehydrogenase deficiency',\n",
        " u'3-methyl crotonyl-coa carboxylase deficiency',\n",
        " u'3-methyl glutaconic aciduria',\n",
        " u'3C syndrome',\n",
        " u'3 alpha methylcrotonyl-Coa carboxylase 1 deficiency',\n",
        " u'3 alpha methylcrotonyl-coa carboxylase 2 deficiency',\n",
        " u'3 alpha methylglutaconic aciduria, type 3',\n",
        " u'3 beta hydroxysteroid dehydrogenase deficiency',\n",
        " u'3 hydroxyisobutyric aciduria',\n",
        " u'3 methylcrotonic aciduria',\n",
        " u'3 methylglutaconyl coa hydratase deficiency',\n",
        " u'3q29 microdeletion syndrome',\n",
        " u'4-Alpha-hydroxyphenylpyruvate hydroxylase deficiency',\n",
        " u'4-hydroxyphenylacetic aciduria',\n",
        " u'46 xx gonadal dysgenesis epibulbar dermoid',\n",
        " u'48, XXXX',\n",
        " u'49, XXXXX',\n",
        " u'49, XXXXY syndrome',\n",
        " u'5-Nucleotidase syndrome',\n",
        " u'5-alpha-Oxoprolinase deficiency',\n",
        " u'5 alpha reductase 2 deficiency',\n",
        " u'5q- syndrome',\n",
        " u'6-pyruvoyl-tetrahydropterin synthase deficiency',\n",
        " u'6-pyruvoyltetrahydropterin synthase deficiency',\n",
        " u'6 alpha mercaptopurine sensitivity',\n",
        " u'7-dehydrocholesterol reductase deficiency',\n",
        " u'8p23.1 duplication syndrome',\n",
        " u'9q34 deletion syndrome',\n",
        " u'Cri du chat',\n",
        " u'Distal Trisomy 10q',\n",
        " u'Klinefelter syndrome',\n",
        " u'List of basic exercise topics',\n",
        " u'List of diseases',\n",
        " u'List of diseases (A)',\n",
        " u'List of diseases (B)',\n",
        " u'List of diseases (C)',\n",
        " u'List of diseases (D)',\n",
        " u'List of diseases (E)',\n",
        " u'List of diseases (F)',\n",
        " u'List of diseases (G)',\n",
        " u'List of diseases (H)',\n",
        " u'List of diseases (I)',\n",
        " u'List of diseases (J)',\n",
        " u'List of diseases (K)',\n",
        " u'List of diseases (L)',\n",
        " u'List of diseases (M)',\n",
        " u'List of diseases (N)',\n",
        " u'List of diseases (O)',\n",
        " u'List of diseases (P)',\n",
        " u'List of diseases (Q)',\n",
        " u'List of diseases (R)',\n",
        " u'List of diseases (S)',\n",
        " u'List of diseases (T)',\n",
        " u'List of diseases (U)',\n",
        " u'List of diseases (V)',\n",
        " u'List of diseases (W)',\n",
        " u'List of diseases (X)',\n",
        " u'List of diseases (Y)',\n",
        " u'List of diseases (Z)',\n",
        " u'Lists of diseases',\n",
        " u'Lists of health topics',\n",
        " u'Lists of nutrition topics',\n",
        " u'Optic atrophy',\n",
        " u'Triple X syndrome',\n",
        " u'XXYY syndrome',\n",
        " u'XYY syndrome']"
       ]
      }
     ],
     "prompt_number": 8
    },
    {
     "cell_type": "heading",
     "level": 2,
     "metadata": {},
     "source": [
      "    Indexing The disease pages"
     ]
    },
    {
     "cell_type": "code",
     "collapsed": false,
     "input": [
      "#the checklist is an array containing an array of allowed \"first characters\". If a disease does not comply, we skip it\n",
      "checkList = [[\"0\",\"1\",\"2\",\"3\",\"4\",\"5\",\"6\",\"7\",\"8\",\"9\"],[\"A\"],[\"B\"],[\"C\"],[\"D\"],[\"E\"],[\"F\"],[\"G\"],[\"H\"],[\"I\"],[\"J\"],[\"K\"],[\"L\"],[\"M\"],[\"N\"],[\"O\"],[\"P\"],[\"Q\"],[\"R\"],[\"S\"],[\"T\"],[\"U\"],[\"V\"],[\"W\"],[\"X\"],[\"Y\"],[\"Z\"]]\n",
      "docType = 'diseases' #document type we will index\n",
      "for diseaselistNumber, diseaselist in enumerate(diseaseListArray):  #loop through disease lists\n",
      "    for disease in diseaselist.links: #loop through lists of links for every disease list\n",
      "        try:\n",
      "            #first check if it is a disease, then index it\n",
      "            if disease[0] in checkList[diseaselistNumber] and disease[0:3] !=\"List\":\n",
      "                currentPage = wikipedia.page(disease) \n",
      "                client.index(index=indexName, doc_type=docType,id = disease, body={\"name\": disease, \"title\":currentPage.title , \"fulltext\":currentPage.content})\n",
      "        except Exception,e: \n",
      "            #print str(e)\n",
      "            pass"
     ],
     "language": "python",
     "metadata": {},
     "outputs": [],
     "prompt_number": 12
    },
    {
     "cell_type": "code",
     "collapsed": false,
     "input": [],
     "language": "python",
     "metadata": {},
     "outputs": []
    }
   ],
   "metadata": {}
  }
 ]
}